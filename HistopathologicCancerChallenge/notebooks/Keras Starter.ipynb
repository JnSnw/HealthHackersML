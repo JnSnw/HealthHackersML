{
 "cells": [
  {
   "cell_type": "markdown",
   "metadata": {},
   "source": [
    "## Imports and config"
   ]
  },
  {
   "cell_type": "code",
   "execution_count": null,
   "metadata": {},
   "outputs": [],
   "source": [
    "#Append other folders to path\n",
    "import sys\n",
    "sys.path.append('../')\n",
    "\n",
    "#Automatically reload modules\n",
    "%load_ext autoreload\n",
    "%autoreload 2\n",
    "\n",
    "#Make this notebook full width\n",
    "from IPython.core.display import display, HTML\n",
    "%matplotlib inline\n",
    "display(HTML(\"<style>.container { width:100% !important; }</style>\"))\n",
    "\n",
    "#Imports\n",
    "import numpy as np\n",
    "import keras,os\n",
    "from Utils.zscore_images import *\n",
    "from IO.load_training_data import *\n",
    "from Models.starter_CNN import *\n",
    "\n",
    "np.random.seed(42) #set numpy seed to easy reproducibility\n",
    "\n",
    "training_portion = 0.8 # use 80% of samples for training, rest validation"
   ]
  },
  {
   "cell_type": "markdown",
   "metadata": {},
   "source": [
    "## Load data"
   ]
  },
  {
   "cell_type": "code",
   "execution_count": null,
   "metadata": {},
   "outputs": [],
   "source": [
    "X,y = load_training_data() # Loads the training data from /Data/\n",
    "\n",
    "split_idx = int(np.round(training_portion * y.shape[0])) #Compute index where we split training/validation"
   ]
  },
  {
   "cell_type": "markdown",
   "metadata": {},
   "source": [
    "## Setup model"
   ]
  },
  {
   "cell_type": "code",
   "execution_count": null,
   "metadata": {},
   "outputs": [],
   "source": [
    "model = starter_CNN() # Sets up a simple CNN"
   ]
  },
  {
   "cell_type": "code",
   "execution_count": null,
   "metadata": {},
   "outputs": [],
   "source": [
    "#Setup keras training\n",
    "batch_size = 50\n",
    "model.compile(loss=keras.losses.binary_crossentropy,\n",
    "              optimizer=keras.optimizers.Adam(0.01),\n",
    "              metrics=['accuracy'])"
   ]
  },
  {
   "cell_type": "markdown",
   "metadata": {},
   "source": [
    "##  Run a training epoch"
   ]
  },
  {
   "cell_type": "code",
   "execution_count": null,
   "metadata": {},
   "outputs": [],
   "source": [
    "iterations = np.floor(split_idx / batch_size).astype(int) #this discards a few images due to below iterationcount floor, should be fixed at some point\n",
    "loss,acc = 0,0 #running loss and accuracy\n",
    "with trange(iterations) as t:\n",
    "    for i in t:\n",
    "        start_idx = i * batch_size \n",
    "        x_batch = zscore_images(X[start_idx:start_idx+batch_size])\n",
    "        y_batch = y[start_idx:start_idx+batch_size]\n",
    "        \n",
    "        #run batch\n",
    "        metrics = model.train_on_batch(x_batch, y_batch)\n",
    "        \n",
    "        #print metrics\n",
    "        loss = loss + metrics[0] \n",
    "        acc = acc + metrics[1]\n",
    "        t.set_description('Running training')\n",
    "        t.set_postfix(loss=\"%.2f\" % round(loss / (i+1),2),acc=\"%.2f\" % round(acc / (i+1),2))"
   ]
  },
  {
   "cell_type": "markdown",
   "metadata": {},
   "source": [
    "## Run a validation epoch"
   ]
  },
  {
   "cell_type": "code",
   "execution_count": null,
   "metadata": {},
   "outputs": [],
   "source": [
    "iterations = np.floor((y.shape[0]-split_idx) / batch_size).astype(int) #this discards a few images due to below iterationcount floor, should be fixed at some point\n",
    "loss,acc = 0,0 #running loss and accuracy\n",
    "with trange(iterations) as t:\n",
    "    for i in t:\n",
    "        #create batch\n",
    "        start_idx = split_idx + i * batch_size \n",
    "        x_batch = zscore_images(X[start_idx:start_idx+batch_size])\n",
    "        y_batch = y[start_idx:start_idx+batch_size]\n",
    "        \n",
    "        #run batch\n",
    "        metrics = model.test_on_batch(x_batch, y_batch)\n",
    "        \n",
    "        #print metrics\n",
    "        loss = loss + metrics[0] \n",
    "        acc = acc + metrics[1]\n",
    "        t.set_description('Running validation')\n",
    "        t.set_postfix(loss=\"%.2f\" % round(loss / (i+1),2),acc=\"%.2f\" % round(acc / (i+1),2))\n",
    "        \n",
    "print(\"Validation loss:\",loss / iterations)\n",
    "print(\"Validation accuracy:\",acc / iterations)"
   ]
  }
 ],
 "metadata": {
  "kernelspec": {
   "display_name": "Python 3",
   "language": "python",
   "name": "python3"
  },
  "language_info": {
   "codemirror_mode": {
    "name": "ipython",
    "version": 3
   },
   "file_extension": ".py",
   "mimetype": "text/x-python",
   "name": "python",
   "nbconvert_exporter": "python",
   "pygments_lexer": "ipython3",
   "version": "3.6.2"
  }
 },
 "nbformat": 4,
 "nbformat_minor": 2
}
